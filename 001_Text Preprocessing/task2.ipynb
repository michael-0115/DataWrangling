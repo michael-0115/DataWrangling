{
 "cells": [
  {
   "cell_type": "markdown",
   "metadata": {},
   "source": [
    "## This file belongs the task 2. \n",
    "# Extract the citation network\n",
    "\n",
    "To extract all the references for each patent, in other word, to get the patent's citations for all the patents in the XML file which contain contains 2,500 patents in total and store them in output file citations.txt in the following format: \n",
    "* citing_patent_id:cited_patent_id,cited_patent_id,...."
   ]
  },
  {
   "cell_type": "markdown",
   "metadata": {},
   "source": [
    "## Step 1. Import Libraries "
   ]
  },
  {
   "cell_type": "code",
   "execution_count": 1,
   "metadata": {},
   "outputs": [],
   "source": [
    "from bs4 import BeautifulSoup"
   ]
  },
  {
   "cell_type": "markdown",
   "metadata": {},
   "source": [
    "## Step 2. Use BeautifulSoup to extract information from the XML file.\n",
    "\n",
    "When first time tried to open the XML file and parse the data to jupyter book by using BeautifulSoup, lxml’s XML parser, it turns out to be that the parser cannot parser all the data from the file and returned some error information. After examining the original XML file by editor, I found out that the file is not a well-formed XML file, which instead the file itself contains 2,500 individual XML files in it. So, the lxml’s XML parser can only successfully parses the first section as it recognizes the section that belong to a well-formed XML file structure.\n",
    "\n",
    "The way to solve this problem is to open the file directly without parsing it and do the edition of the original files to the correct structure and save each patent to the list separately before using any parser. Or use Python’s html.parser with BeautifulSoup, it can parse the so call un-well-formed XML file without error. And I am going the use the Python’s html.parser to parse and extract data from XML files with Python."
   ]
  },
  {
   "cell_type": "code",
   "execution_count": 2,
   "metadata": {},
   "outputs": [],
   "source": [
    "soup = BeautifulSoup(open(\"./patents.xml\"),\"html.parser\") "
   ]
  },
  {
   "cell_type": "markdown",
   "metadata": {},
   "source": [
    "## Step 3. Examining the hierarchy of the xml file and obtain the information we need.\n",
    "\n",
    "By examining the hierarchy of the xml file, we noted that the information we would like to extract is stored in the following tags:\n",
    "\n",
    " * for citing_patent_id:  \n",
    " \n",
    "        publication-reference > doc-number \n",
    "        (the citing patent id is located under tags publication-reference > doc-number)\n",
    " \n",
    " * for cited_patent_id:\n",
    " \n",
    "                     \n",
    "        references-cited> citation > doc-number \n",
    "                          citation > doc-number \n",
    "                              .\n",
    "                              .\n",
    "                              .\n",
    "                          citation > doc-number \n",
    "       (the cited patent id for a citing patent is located under tags references-cited> citation > doc-number. \n",
    "       And a citing patent may have more than one cited patent)     \n",
    "        \n",
    "###### 3.1 To get the citing_patent_id and return to a list: citing_patent_id"
   ]
  },
  {
   "cell_type": "code",
   "execution_count": 3,
   "metadata": {},
   "outputs": [
    {
     "data": {
      "text/plain": [
       "[u'PP021722',\n",
       " u'RE042159',\n",
       " u'RE042170',\n",
       " u'07891018',\n",
       " u'07891019',\n",
       " u'07891020',\n",
       " u'07891021',\n",
       " u'07891023',\n",
       " u'07891025',\n",
       " u'07891026']"
      ]
     },
     "execution_count": 3,
     "metadata": {},
     "output_type": "execute_result"
    }
   ],
   "source": [
    "publication_reference_tags = soup.find_all(\"publication-reference\")\n",
    "citing_patent_id = [item.find(\"doc-number\").string for item in publication_reference_tags] \n",
    "citing_patent_id[0:10]"
   ]
  },
  {
   "cell_type": "markdown",
   "metadata": {},
   "source": [
    "###### 3.2  To find the cited_patent_id and store to a list: cited_patents"
   ]
  },
  {
   "cell_type": "code",
   "execution_count": 5,
   "metadata": {},
   "outputs": [
    {
     "data": {
      "text/plain": [
       "[[u'PP17672', u'PP18482', u'PP18483'],\n",
       " [u'4954776',\n",
       "  u'4956606',\n",
       "  u'5015948',\n",
       "  u'5115193',\n",
       "  u'5180978',\n",
       "  u'5332966',\n",
       "  u'5332996',\n",
       "  u'5351003',\n",
       "  u'5381090',\n",
       "  u'5521496',\n",
       "  u'5914593'],\n",
       " [u'3988719',\n",
       "  u'4206996',\n",
       "  u'4803623',\n",
       "  u'4905098',\n",
       "  u'5012281',\n",
       "  u'5161222',\n",
       "  u'5172244',\n",
       "  u'5253152',\n",
       "  u'5263153',\n",
       "  u'5270775',\n",
       "  u'5301262',\n",
       "  u'5341363',\n",
       "  u'5355490',\n",
       "  u'5410754',\n",
       "  u'5537626',\n",
       "  u'5559958',\n",
       "  u'5574859',\n",
       "  u'5580177',\n",
       "  u'5611046',\n",
       "  u'5647056',\n",
       "  u'5828864'],\n",
       " [u'4561124',\n",
       "  u'4831666',\n",
       "  u'4920577',\n",
       "  u'5105473',\n",
       "  u'5134726',\n",
       "  u'D338281',\n",
       "  u'5611081',\n",
       "  u'5729832',\n",
       "  u'5845333',\n",
       "  u'6115838',\n",
       "  u'6332224',\n",
       "  u'6805957',\n",
       "  u'7089598'],\n",
       " [u'4355632',\n",
       "  u'4702235',\n",
       "  u'5032705',\n",
       "  u'5148002',\n",
       "  u'5603648',\n",
       "  u'6439942',\n",
       "  u'6757916',\n",
       "  u'6910229']]"
      ]
     },
     "execution_count": 5,
     "metadata": {},
     "output_type": "execute_result"
    }
   ],
   "source": [
    "cited_patents = []\n",
    "\n",
    "references_cited_tags = soup.find_all(\"references-cited\")\n",
    "\n",
    "citation_tags = []\n",
    "for item in references_cited_tags:\n",
    "    citation_tags.append(item.find_all(\"citation\"))\n",
    "\n",
    "cited_patents = []\n",
    "for l in citation_tags:\n",
    "    temp = []\n",
    "    for item in l:\n",
    "        temp.append(item.find(\"doc-number\").string)\n",
    "    cited_patents.append(temp)\n",
    "cited_patents[0:5]    "
   ]
  },
  {
   "cell_type": "markdown",
   "metadata": {},
   "source": [
    "## Step 4. Data formatting for the collected data and output to file.\n",
    "\n",
    "A patent list which contains all the 2,500 patents ID and another information list that contains patents cited by the 2,500 patents in the patent list have been generated.\n",
    "And the citing patents in the patent list are all in the same position with the patents it cited in the information list. \n",
    "###### 4.1  Combine both lists to a list so each item in the new list store the citing patent's id and it's cited patents id list."
   ]
  },
  {
   "cell_type": "code",
   "execution_count": 6,
   "metadata": {},
   "outputs": [
    {
     "data": {
      "text/plain": [
       "[[u'PP021722', [u'PP17672', u'PP18482', u'PP18483']],\n",
       " [u'RE042159',\n",
       "  [u'4954776',\n",
       "   u'4956606',\n",
       "   u'5015948',\n",
       "   u'5115193',\n",
       "   u'5180978',\n",
       "   u'5332966',\n",
       "   u'5332996',\n",
       "   u'5351003',\n",
       "   u'5381090',\n",
       "   u'5521496',\n",
       "   u'5914593']],\n",
       " [u'RE042170',\n",
       "  [u'3988719',\n",
       "   u'4206996',\n",
       "   u'4803623',\n",
       "   u'4905098',\n",
       "   u'5012281',\n",
       "   u'5161222',\n",
       "   u'5172244',\n",
       "   u'5253152',\n",
       "   u'5263153',\n",
       "   u'5270775',\n",
       "   u'5301262',\n",
       "   u'5341363',\n",
       "   u'5355490',\n",
       "   u'5410754',\n",
       "   u'5537626',\n",
       "   u'5559958',\n",
       "   u'5574859',\n",
       "   u'5580177',\n",
       "   u'5611046',\n",
       "   u'5647056',\n",
       "   u'5828864']],\n",
       " [u'07891018',\n",
       "  [u'4561124',\n",
       "   u'4831666',\n",
       "   u'4920577',\n",
       "   u'5105473',\n",
       "   u'5134726',\n",
       "   u'D338281',\n",
       "   u'5611081',\n",
       "   u'5729832',\n",
       "   u'5845333',\n",
       "   u'6115838',\n",
       "   u'6332224',\n",
       "   u'6805957',\n",
       "   u'7089598']],\n",
       " [u'07891019',\n",
       "  [u'4355632',\n",
       "   u'4702235',\n",
       "   u'5032705',\n",
       "   u'5148002',\n",
       "   u'5603648',\n",
       "   u'6439942',\n",
       "   u'6757916',\n",
       "   u'6910229']]]"
      ]
     },
     "execution_count": 6,
     "metadata": {},
     "output_type": "execute_result"
    }
   ],
   "source": [
    "citation_network_scheme = []\n",
    "for i in range (len(citing_patent_id)):\n",
    "    citation_network_scheme.append([citing_patent_id[i], cited_patents[i]])\n",
    "citation_network_scheme[0:5]"
   ]
  },
  {
   "cell_type": "markdown",
   "metadata": {},
   "source": [
    "###### 4.2  After the final list been setted up. Sorting the sequence of the patents by citing patents ID in the list and to write item to the file line by line as task required output format:\n",
    "* citing_patent_id:cited_patent_id,cited_patent_id,...."
   ]
  },
  {
   "cell_type": "code",
   "execution_count": 6,
   "metadata": {},
   "outputs": [],
   "source": [
    "citation_network_scheme.sort()\n",
    "\n",
    "output_file = open (\"citations.txt\", \"w+\")\n",
    "\n",
    "for item in citation_network_scheme:\n",
    "    line = item[0]+\":\"+ \",\".join(item[1])+\"\\n\"\n",
    "    output_file.write(line) \n",
    "\n",
    "output_file.close()"
   ]
  },
  {
   "cell_type": "markdown",
   "metadata": {},
   "source": [
    "### Task 2 end."
   ]
  }
 ],
 "metadata": {
  "kernelspec": {
   "display_name": "Python 2",
   "language": "python",
   "name": "python2"
  },
  "language_info": {
   "codemirror_mode": {
    "name": "ipython",
    "version": 2
   },
   "file_extension": ".py",
   "mimetype": "text/x-python",
   "name": "python",
   "nbconvert_exporter": "python",
   "pygments_lexer": "ipython2",
   "version": "2.7.15"
  }
 },
 "nbformat": 4,
 "nbformat_minor": 2
}
