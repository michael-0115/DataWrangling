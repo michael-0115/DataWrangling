{
 "cells": [
  {
   "cell_type": "markdown",
   "metadata": {},
   "source": [
    "# Identify number of patent citation\n",
    "\n",
    "To identify number of times a particular patent has been cited according to data in the XML file and store them in output file \"cited.txt\" in the following format: \n",
    "\n",
    " * cited_patent_id: number of times it is cited"
   ]
  },
  {
   "cell_type": "markdown",
   "metadata": {},
   "source": [
    "## Step 1. Import Libraries"
   ]
  },
  {
   "cell_type": "code",
   "execution_count": 1,
   "metadata": {},
   "outputs": [],
   "source": [
    "from bs4 import BeautifulSoup\n",
    "from collections import Counter"
   ]
  },
  {
   "cell_type": "markdown",
   "metadata": {},
   "source": [
    "## Step 2. Use BeautifulSoup to extract information from the XML file.\n",
    "\n",
    "When first time tried to open the XML file and parse the data to jupyter book by using BeautifulSoup, lxml’s XML parser, it turns out to be that the parser cannot parser all the data from the file and returned some error information. After examining the original XML file by editor, I found out that the file is not a well-formed XML file, which instead the file itself contains 2,500 individual XML files in it. So, the lxml’s XML parser can only successfully parses the first section as it recognizes the section that belong to a well-formed XML file structure.\n",
    "\n",
    "The way to solve this problem is to open the file directly without parsing it and do the edition of the original files to the correct structure and save each patent to the list separately before using any parser. Or use Python’s html.parser with BeautifulSoup, it can parse the so call un-well-formed XML file without error. And I am going the use the Python’s html.parser to parse and extract data from XML files with Python."
   ]
  },
  {
   "cell_type": "code",
   "execution_count": 2,
   "metadata": {},
   "outputs": [],
   "source": [
    "soup = BeautifulSoup(open(\"./patents.xml\"),\"html.parser\")  "
   ]
  },
  {
   "cell_type": "markdown",
   "metadata": {},
   "source": [
    "## Step 3. Examining the hierarchy of the xml file and obtain the information we need.\n",
    "\n",
    "By examining the hierarchy of the xml file, we noted that the information we would like to extract is stored in the following tags:\n",
    "\n",
    " * for cited_patent_id:\n",
    " \n",
    "                     \n",
    "        references-cited> citation > doc-number \n",
    "                          citation > doc-number \n",
    "                              .\n",
    "                              .\n",
    "                              .\n",
    "                          citation > doc-number \n",
    "       (the cited patent id for a citing patent is located under tags references-cited> citation > doc-number. \n",
    "       And a citing patent may have more than one cited patent)                  \n",
    "                         \n",
    "By collecting all cited patents in the parsing data, we can have a list of patents ID, for these patent ID each represent a time it is cited by a particular patent. So, by do some counting process, we can obtain information in a list with all the cited patents and number of the time a patent be cited.\n",
    "\n",
    "###### To find the cited_patent_id and store to a list : cited_patents"
   ]
  },
  {
   "cell_type": "code",
   "execution_count": 3,
   "metadata": {},
   "outputs": [
    {
     "data": {
      "text/plain": [
       "[u'PP17672', u'PP18482', u'PP18483', u'4954776', u'4956606']"
      ]
     },
     "execution_count": 3,
     "metadata": {},
     "output_type": "execute_result"
    }
   ],
   "source": [
    "cited_patents = []\n",
    "\n",
    "references_cited_tags = soup.find_all(\"references-cited\")\n",
    "\n",
    "citation_tags = []\n",
    "for item in references_cited_tags:\n",
    "    citation_tags.append(item.find_all(\"citation\"))\n",
    "\n",
    "cited_patents = []\n",
    "for l in citation_tags:\n",
    "    for item in l:\n",
    "        cited_patents.append(item.find(\"doc-number\").string)\n",
    "    \n",
    "cited_patents[0:5]    "
   ]
  },
  {
   "cell_type": "markdown",
   "metadata": {},
   "source": [
    "## Step 4. Counting Data from obtain list for number of times patents be cited than output to obtain information to file.\n",
    "\n",
    "A patent list which contains all cited patents has been generated.\n",
    "###### 4.1 Use Counter function from the collections package to return a list for every cited patents and number of the time it's cited."
   ]
  },
  {
   "cell_type": "code",
   "execution_count": 4,
   "metadata": {},
   "outputs": [
    {
     "data": {
      "text/plain": [
       "[(u'2001/0040064', 1),\n",
       " (u'6508656', 1),\n",
       " (u'7083454', 1),\n",
       " (u'2553225', 1),\n",
       " (u'5047630', 1)]"
      ]
     },
     "execution_count": 4,
     "metadata": {},
     "output_type": "execute_result"
    }
   ],
   "source": [
    "cited_patents_count = Counter(cited_patents)\n",
    "\n",
    "cited_scheme = [(patent, cited_patents_count[patent]) for patent in cited_patents_count]\n",
    "cited_scheme[0:5]"
   ]
  },
  {
   "cell_type": "markdown",
   "metadata": {},
   "source": [
    "###### 4.2 After the final list been setted up. Sorting the sequence of the patents by cited patents ID in the list and to write item to the file line by line as task required output format: \n",
    "* cited_patent_id: number of times it is cited"
   ]
  },
  {
   "cell_type": "code",
   "execution_count": 5,
   "metadata": {
    "collapsed": true
   },
   "outputs": [],
   "source": [
    "cited_scheme.sort()\n",
    "\n",
    "output_file = open (\"cited.txt\", \"w+\")\n",
    "\n",
    "for item in cited_scheme:\n",
    "    line = item[0]+\":\"+ str(item[1])+\"\\n\"\n",
    "    output_file.write(line) \n",
    "\n",
    "output_file.close()"
   ]
  },
  {
   "cell_type": "markdown",
   "metadata": {},
   "source": [
    "### Task 3 end."
   ]
  }
 ],
 "metadata": {
  "kernelspec": {
   "display_name": "Python 2",
   "language": "python",
   "name": "python2"
  },
  "language_info": {
   "codemirror_mode": {
    "name": "ipython",
    "version": 2
   },
   "file_extension": ".py",
   "mimetype": "text/x-python",
   "name": "python",
   "nbconvert_exporter": "python",
   "pygments_lexer": "ipython2",
   "version": "2.7.15"
  }
 },
 "nbformat": 4,
 "nbformat_minor": 2
}
